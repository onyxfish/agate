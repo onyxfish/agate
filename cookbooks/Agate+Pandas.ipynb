{
 "cells": [
  {
   "cell_type": "markdown",
   "metadata": {},
   "source": [
    "## Agate and Pandas\n",
    "Agate and Pandas are compatable. This cookbook will show you how to convert from Agate Tables to Pandas DataFrames, why you might want to do that, and some additional documentation. "
   ]
  },
  {
   "cell_type": "code",
   "execution_count": 1,
   "metadata": {
    "collapsed": true
   },
   "outputs": [],
   "source": [
    "## import agate, pandas\n",
    "import agate\n",
    "import pandas as pd"
   ]
  },
  {
   "cell_type": "markdown",
   "metadata": {},
   "source": [
    "## Agate -> Pandas\n",
    "- First, we load the data into an agate table. "
   ]
  },
  {
   "cell_type": "code",
   "execution_count": 6,
   "metadata": {
    "collapsed": false
   },
   "outputs": [
    {
     "name": "stdout",
     "output_type": "stream",
     "text": [
      "<agate.table.Table object at 0x10c2afb90>\n"
     ]
    }
   ],
   "source": [
    "table = agate.Table.from_csv('../examples/realdata/ks_1033_data.csv')\n",
    "print(table)"
   ]
  },
  {
   "cell_type": "markdown",
   "metadata": {},
   "source": [
    "- Then, we assemble the data into a dictionary. "
   ]
  },
  {
   "cell_type": "code",
   "execution_count": 49,
   "metadata": {
    "collapsed": false
   },
   "outputs": [],
   "source": [
    "temp_dict = {}\n",
    "for ix, row in enumerate(table.rows):\n",
    "    temp_dict[ix] = row"
   ]
  },
  {
   "cell_type": "markdown",
   "metadata": {},
   "source": [
    "- Then, we convert the dict to a DataFrame\n",
    "- Then, we reset the columns to the ones from the agate table. "
   ]
  },
  {
   "cell_type": "code",
   "execution_count": 59,
   "metadata": {
    "collapsed": false
   },
   "outputs": [],
   "source": [
    "df = pd.DataFrame.from_dict(temp_dict, orient='index')\n",
    "df.columns = table.column_names"
   ]
  },
  {
   "cell_type": "code",
   "execution_count": 64,
   "metadata": {
    "collapsed": false
   },
   "outputs": [
    {
     "data": {
      "text/html": [
       "<div style=\"max-height:1000px;max-width:1500px;overflow:auto;\">\n",
       "<table border=\"1\" class=\"dataframe\">\n",
       "  <thead>\n",
       "    <tr style=\"text-align: right;\">\n",
       "      <th></th>\n",
       "      <th>state</th>\n",
       "      <th>county</th>\n",
       "      <th>fips</th>\n",
       "      <th>nsn</th>\n",
       "      <th>item_name</th>\n",
       "      <th>quantity</th>\n",
       "      <th>ui</th>\n",
       "      <th>acquisition_cost</th>\n",
       "      <th>total_cost</th>\n",
       "      <th>ship_date</th>\n",
       "      <th>federal_supply_category</th>\n",
       "      <th>federal_supply_category_name</th>\n",
       "      <th>federal_supply_class</th>\n",
       "      <th>federal_supply_class_name</th>\n",
       "    </tr>\n",
       "  </thead>\n",
       "  <tbody>\n",
       "    <tr>\n",
       "      <th>0</th>\n",
       "      <td> KS</td>\n",
       "      <td> ALLEN</td>\n",
       "      <td> 20001</td>\n",
       "      <td> 1005-00-073-9421</td>\n",
       "      <td> RIFLE,5.56 MILLIMETER</td>\n",
       "      <td> 1</td>\n",
       "      <td> Each</td>\n",
       "      <td> 499</td>\n",
       "      <td> 499</td>\n",
       "      <td>2006-05-19</td>\n",
       "      <td> 10</td>\n",
       "      <td> WEAPONS</td>\n",
       "      <td> 1005</td>\n",
       "      <td> Guns, through 30 mm</td>\n",
       "    </tr>\n",
       "    <tr>\n",
       "      <th>1</th>\n",
       "      <td> KS</td>\n",
       "      <td> ALLEN</td>\n",
       "      <td> 20001</td>\n",
       "      <td> 1005-00-073-9421</td>\n",
       "      <td> RIFLE,5.56 MILLIMETER</td>\n",
       "      <td> 1</td>\n",
       "      <td> Each</td>\n",
       "      <td> 499</td>\n",
       "      <td> 499</td>\n",
       "      <td>2006-05-19</td>\n",
       "      <td> 10</td>\n",
       "      <td> WEAPONS</td>\n",
       "      <td> 1005</td>\n",
       "      <td> Guns, through 30 mm</td>\n",
       "    </tr>\n",
       "    <tr>\n",
       "      <th>2</th>\n",
       "      <td> KS</td>\n",
       "      <td> ALLEN</td>\n",
       "      <td> 20001</td>\n",
       "      <td> 1005-00-073-9421</td>\n",
       "      <td> RIFLE,5.56 MILLIMETER</td>\n",
       "      <td> 1</td>\n",
       "      <td> Each</td>\n",
       "      <td> 499</td>\n",
       "      <td> 499</td>\n",
       "      <td>2006-05-19</td>\n",
       "      <td> 10</td>\n",
       "      <td> WEAPONS</td>\n",
       "      <td> 1005</td>\n",
       "      <td> Guns, through 30 mm</td>\n",
       "    </tr>\n",
       "    <tr>\n",
       "      <th>3</th>\n",
       "      <td> KS</td>\n",
       "      <td> ALLEN</td>\n",
       "      <td> 20001</td>\n",
       "      <td> 1005-00-073-9421</td>\n",
       "      <td> RIFLE,5.56 MILLIMETER</td>\n",
       "      <td> 1</td>\n",
       "      <td> Each</td>\n",
       "      <td> 499</td>\n",
       "      <td> 499</td>\n",
       "      <td>2006-05-19</td>\n",
       "      <td> 10</td>\n",
       "      <td> WEAPONS</td>\n",
       "      <td> 1005</td>\n",
       "      <td> Guns, through 30 mm</td>\n",
       "    </tr>\n",
       "    <tr>\n",
       "      <th>4</th>\n",
       "      <td> KS</td>\n",
       "      <td> ALLEN</td>\n",
       "      <td> 20001</td>\n",
       "      <td> 1005-00-073-9421</td>\n",
       "      <td> RIFLE,5.56 MILLIMETER</td>\n",
       "      <td> 1</td>\n",
       "      <td> Each</td>\n",
       "      <td> 499</td>\n",
       "      <td> 499</td>\n",
       "      <td>2012-04-16</td>\n",
       "      <td> 10</td>\n",
       "      <td> WEAPONS</td>\n",
       "      <td> 1005</td>\n",
       "      <td> Guns, through 30 mm</td>\n",
       "    </tr>\n",
       "  </tbody>\n",
       "</table>\n",
       "<p>5 rows × 14 columns</p>\n",
       "</div>"
      ],
      "text/plain": [
       "  state county   fips               nsn              item_name quantity    ui  \\\n",
       "0    KS  ALLEN  20001  1005-00-073-9421  RIFLE,5.56 MILLIMETER        1  Each   \n",
       "1    KS  ALLEN  20001  1005-00-073-9421  RIFLE,5.56 MILLIMETER        1  Each   \n",
       "2    KS  ALLEN  20001  1005-00-073-9421  RIFLE,5.56 MILLIMETER        1  Each   \n",
       "3    KS  ALLEN  20001  1005-00-073-9421  RIFLE,5.56 MILLIMETER        1  Each   \n",
       "4    KS  ALLEN  20001  1005-00-073-9421  RIFLE,5.56 MILLIMETER        1  Each   \n",
       "\n",
       "  acquisition_cost total_cost  ship_date federal_supply_category  \\\n",
       "0              499        499 2006-05-19                      10   \n",
       "1              499        499 2006-05-19                      10   \n",
       "2              499        499 2006-05-19                      10   \n",
       "3              499        499 2006-05-19                      10   \n",
       "4              499        499 2012-04-16                      10   \n",
       "\n",
       "  federal_supply_category_name federal_supply_class federal_supply_class_name  \n",
       "0                      WEAPONS                 1005       Guns, through 30 mm  \n",
       "1                      WEAPONS                 1005       Guns, through 30 mm  \n",
       "2                      WEAPONS                 1005       Guns, through 30 mm  \n",
       "3                      WEAPONS                 1005       Guns, through 30 mm  \n",
       "4                      WEAPONS                 1005       Guns, through 30 mm  \n",
       "\n",
       "[5 rows x 14 columns]"
      ]
     },
     "execution_count": 64,
     "metadata": {},
     "output_type": "execute_result"
    }
   ],
   "source": [
    "df.head()"
   ]
  },
  {
   "cell_type": "markdown",
   "metadata": {},
   "source": [
    "## Pandas -> Agate \n"
   ]
  },
  {
   "cell_type": "code",
   "execution_count": 67,
   "metadata": {
    "collapsed": false
   },
   "outputs": [],
   "source": [
    "## load and create a dataframe\n",
    "df = pd.read_csv('../examples/realdata/ks_1033_data.csv')"
   ]
  },
  {
   "cell_type": "code",
   "execution_count": 91,
   "metadata": {
    "collapsed": false
   },
   "outputs": [],
   "source": [
    "new_table = agate.Table.counts?"
   ]
  },
  {
   "cell_type": "code",
   "execution_count": null,
   "metadata": {
    "collapsed": true
   },
   "outputs": [],
   "source": [
    "new_table = agate.Table.counts"
   ]
  },
  {
   "cell_type": "code",
   "execution_count": 80,
   "metadata": {
    "collapsed": false
   },
   "outputs": [
    {
     "data": {
      "text/plain": [
       "<module 'agate.table' from '/Users/howens/Desktop/open_source/agate/agate/table.py'>"
      ]
     },
     "execution_count": 80,
     "metadata": {},
     "output_type": "execute_result"
    }
   ],
   "source": [
    "new_table."
   ]
  },
  {
   "cell_type": "code",
   "execution_count": null,
   "metadata": {
    "collapsed": true
   },
   "outputs": [],
   "source": []
  }
 ],
 "metadata": {
  "kernelspec": {
   "display_name": "Python 2",
   "language": "python",
   "name": "python2"
  },
  "language_info": {
   "codemirror_mode": {
    "name": "ipython",
    "version": 2
   },
   "file_extension": ".py",
   "mimetype": "text/x-python",
   "name": "python",
   "nbconvert_exporter": "python",
   "pygments_lexer": "ipython2",
   "version": "2.7.10"
  }
 },
 "nbformat": 4,
 "nbformat_minor": 0
}
